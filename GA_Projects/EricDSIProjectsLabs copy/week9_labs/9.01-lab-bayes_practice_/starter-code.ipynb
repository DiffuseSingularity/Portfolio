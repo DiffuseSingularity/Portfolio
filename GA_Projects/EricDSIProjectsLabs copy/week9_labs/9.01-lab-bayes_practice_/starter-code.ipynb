{
 "cells": [
  {
   "cell_type": "markdown",
   "metadata": {},
   "source": [
    "## 9.01 Lab - Bayes Practice\n",
    "\n",
    "> Author: Matt Brems\n",
    "\n",
    "This lab will have two parts.\n",
    "\n",
    "- Part 1: Bayes Practice Problems\n",
    "- Part 2: Moving from Probabilities to Distributions"
   ]
  },
  {
   "cell_type": "markdown",
   "metadata": {},
   "source": [
    "### Part 1: Bayes Practice Problems\n",
    "\n",
    "##### Problem 1. You work at a financial services company that offers individual retirement accounts (IRAs). To target high potential customers, you want to find out if people with children are more likely to invest in IRAs.  \n",
    "\n",
    "So far you have found:\n",
    "- 30% of all Americans have IRAs.\n",
    "- half of Americans have children.\n",
    "- two-thirds of those with IRAs have children.\n",
    "\n",
    "Based on this information, what is the probability that someone with children has an IRA? "
   ]
  },
  {
   "cell_type": "markdown",
   "metadata": {},
   "source": [
    "Prob_Someone_has_IRA_given_they_have_children = ((2/3)(.3)/(.5) = .4 \n",
    "<br>\n",
    "**Answer:** 40%"
   ]
  },
  {
   "cell_type": "markdown",
   "metadata": {},
   "source": [
    "---"
   ]
  },
  {
   "cell_type": "markdown",
   "metadata": {},
   "source": [
    "##### Problem 2: Suppose I own a hotel and an apartment building. Times are tight, and I need to sell one of them. Both would earn me the exact same amount of money, so that doesn't help me to make my decision. Instead, I decide to make my decision based on my residents' satisfaction. \n",
    "- Whichever building has a higher percentage of satisfied people is the one I will choose to keep.\n",
    "- _However_, if the percent of satisfied guests for my hotel and the percent of satified guests for my apartment building are within 10% of one another, I will sell neither until I can bring in some outside consultants to help me make my decision.\n",
    "- Last winter, I administered a survey to *all* residents and found that 60% of them are satisfied.\n",
    "- Among satisfied respondents, two out of every five came from the apartment building.\n",
    "- One-third of my residents live in my apartment building.\n",
    "\n",
    "What action will I take?"
   ]
  },
  {
   "cell_type": "markdown",
   "metadata": {},
   "source": [
    "Satisfied_residents_in_apartment = (2/5)(.6)/(1/3) = 72%\n",
    "<br>\n",
    "Satisfied_residents_in_hotel = (3/5)(.6)/(2/3) = 54%\n",
    "<br>\n",
    "**Answer:** Sell off the hotel "
   ]
  },
  {
   "cell_type": "markdown",
   "metadata": {},
   "source": [
    "---"
   ]
  },
  {
   "cell_type": "markdown",
   "metadata": {},
   "source": [
    "##### Problem 3: Suppose you and your friend are playing a game. Your friend has laid four coins out in front of you. If you flip heads, you win a dollar from your friend. If you flip tails, you owe a dollar to your friend. However, the coins in front of you are not fair.\n",
    "- One coin has a 80% chance of flipping heads. (Call this coin A.)\n",
    "- One coin has a 60% chance of flipping heads. (Call this coin B.)\n",
    "- One coin has a 40% chance of flipping heads. (Call this coin C.)\n",
    "- One coin has a 10% chance of flipping heads. (Call this coin D.)\n",
    "\n",
    "##### Problem 3-a) Suppose you select one coin at random. That is, you don't know whether you selected coin A, B, C, or D. You flip heads. Given this data, what are the probabilities that you selected coin A, coin B, coin C, and coin D?\n",
    "\n",
    "> Hint: When finding the marginal probability of flipping heads, you will need to use the Law of Total Probability! Find this **first**."
   ]
  },
  {
   "cell_type": "markdown",
   "metadata": {},
   "source": [
    "P(A l B) = P (B l A)*P(A) / P(B) "
   ]
  },
  {
   "cell_type": "markdown",
   "metadata": {},
   "source": [
    "Overall prob of heads = 190%/4 = 47.5% \n",
    "<br>\n",
    "Overall prob of tails = 210%/4 = 52.5%"
   ]
  },
  {
   "cell_type": "markdown",
   "metadata": {},
   "source": [
    "**Answer**:\n",
    "Coin_a_given_heads = (.8)(.25)/(.475) = 42%\n",
    "<br>\n",
    "Coin_b_given_heads = (.6)(.25)/(.475) = 31.6%\n",
    "<br>\n",
    "Coin_c_given_heads = (.4)(.25)/(.475) = 21.1%\n",
    "<br>\n",
    "Coin_d_given_heads = (.1)(.25)/(.475) = 5.3%\n",
    "\n"
   ]
  },
  {
   "cell_type": "markdown",
   "metadata": {},
   "source": [
    "##### BONUS: Problem 3-b) Suppose you are using the same coin as before. That is, you _still_ don't know whether you selected coin A, B, C, or D - although you have a better idea now that you flipped heads on your first flip! On this second flip, you flip tails. Given this data, what are the probabilities that you selected coin A, coin B, coin C, and coin D?\n",
    "\n",
    "> Hint: Everything now is **conditional on the fact that we have already flipped a heads**.\n",
    "\n",
    "$$\n",
    "\\begin{eqnarray*}\n",
    "P(A|B\\cap C) &=& \\frac{P(A\\cap B \\cap C)}{P(B\\cap C)} \\\\\n",
    "\\\\\n",
    "&=& \\frac{P(A\\cap B|C)P(C)}{P(B|C)P(C)} \\\\\n",
    "\\\\\n",
    "&=& \\frac{P(A\\cap B|C)}{P(B|C)} \\\\\n",
    "\\end{eqnarray*}\n",
    "$$"
   ]
  },
  {
   "cell_type": "markdown",
   "metadata": {},
   "source": [
    "**Answer**:"
   ]
  },
  {
   "cell_type": "markdown",
   "metadata": {},
   "source": [
    "##### BONUS: Problem 3-c) Suppose you are using the same coin as before. That is, you _still_ don't know whether you selected coin A, B, C, or D - although you have a better idea now that you flipped heads, then tails on your first two flips! On this third flip, you flip tails. Given this data, what are the probabilities that you selected coin A, coin B, coin C, and coin D?\n",
    "\n",
    "> Hint: This will follow the same structure as the last two problems."
   ]
  },
  {
   "cell_type": "markdown",
   "metadata": {},
   "source": [
    "**Answer**:"
   ]
  },
  {
   "cell_type": "markdown",
   "metadata": {},
   "source": [
    "---"
   ]
  },
  {
   "cell_type": "markdown",
   "metadata": {},
   "source": [
    "### Part 2: Moving from Probabilities to Distributions"
   ]
  },
  {
   "cell_type": "markdown",
   "metadata": {},
   "source": [
    "##### Problem 4. We want to look at our prior probabilities.\n",
    "\n",
    "##### Problem 4-a) In Problem 3, before you had flipped any coin, what was the probability that you had selected coin A? Coin B? Coin C? Coin D?\n"
   ]
  },
  {
   "cell_type": "markdown",
   "metadata": {},
   "source": [
    "**Answer:** 25% across the board for each (if you can't figure weightedness and it's impact on what side it's likely to land on)"
   ]
  },
  {
   "cell_type": "markdown",
   "metadata": {},
   "source": [
    "##### Problem 4-b) What is the definition of a distribution?\n",
    "> Check your notes from the early weeks of the course if you can't remember."
   ]
  },
  {
   "cell_type": "markdown",
   "metadata": {},
   "source": [
    "**Answer:** a representation of the number of each unique value in a dataset, the spread of datapoints in a set."
   ]
  },
  {
   "cell_type": "markdown",
   "metadata": {},
   "source": [
    "##### Problem 4-c) What \"named distribution\" (i.e. a distribution that has a common name) could we apply to a situation where selecting coins A-D is equally likely?"
   ]
  },
  {
   "cell_type": "markdown",
   "metadata": {},
   "source": [
    "**Answer:** Uniform distribution"
   ]
  },
  {
   "cell_type": "markdown",
   "metadata": {},
   "source": [
    "##### Problem 4-d) Suppose that I have only one coin and I want to conduct inference on the probability of flipping heads, $p$. Note that $p$ is unknown. If I want to specify some prior distribution where all probabilities $p$ are equally likely, should I use a discrete or continuous distribution? Why?"
   ]
  },
  {
   "cell_type": "markdown",
   "metadata": {},
   "source": [
    "**Answer:** discrete; there is only two potential outcomes in each trial.  "
   ]
  },
  {
   "cell_type": "markdown",
   "metadata": {},
   "source": [
    "##### Problem 4-e) Suppose that I have only one coin and I want to conduct inference on the probability of flipping heads, $p$. Note that $p$ is unknown. If I want to specify some prior distribution where all probabilities $p$ are equally likely, then what named distribution might I use?"
   ]
  },
  {
   "cell_type": "markdown",
   "metadata": {},
   "source": [
    "**Answer:** Bernoulli distribution"
   ]
  },
  {
   "cell_type": "markdown",
   "metadata": {},
   "source": [
    "##### Problem 4-f) Suppose I have only one coin with some unknown probability of flipping heads $p$. If I think 50% is the likeliest value for $p$ and, as we get farther away from 50%, that value is less and less likely, what named distribution could I use?"
   ]
  },
  {
   "cell_type": "markdown",
   "metadata": {},
   "source": [
    "**Answer:** Beta distribution"
   ]
  },
  {
   "cell_type": "markdown",
   "metadata": {},
   "source": [
    "##### Problem 4-f) When we listed out our prior probabilities for each coin, we got the same number of posterior probabilities. For example, when we had four prior probabilities (one for Coin A, one for Coin B, one for Coin C, and one for Coin D), then we had four posterior probabilities (one for Coin A, for Coin B, one for Coin C, and one for Coin D). However, if we have one prior distribution, then we will get one posterior distribution. What are some advantages to being able to summarize our posterior with one distribution instead of a big list of probabilities?"
   ]
  },
  {
   "cell_type": "markdown",
   "metadata": {},
   "source": [
    "**Answer:** It simplifies our model, and we are able to use something like a uniform or normal distribution instead of a beta distribution, which is more computationally intensive - it requires informed priors or willingness to adjust our models given new data, which gets into the messy, subjective nature of bayesian statistics. "
   ]
  },
  {
   "cell_type": "code",
   "execution_count": null,
   "metadata": {},
   "outputs": [],
   "source": []
  }
 ],
 "metadata": {
  "kernelspec": {
   "display_name": "Python 3",
   "language": "python",
   "name": "python3"
  },
  "language_info": {
   "codemirror_mode": {
    "name": "ipython",
    "version": 3
   },
   "file_extension": ".py",
   "mimetype": "text/x-python",
   "name": "python",
   "nbconvert_exporter": "python",
   "pygments_lexer": "ipython3",
   "version": "3.7.1"
  }
 },
 "nbformat": 4,
 "nbformat_minor": 2
}
