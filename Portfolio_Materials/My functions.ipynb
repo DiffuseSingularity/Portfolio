{
 "cells": [
  {
   "cell_type": "markdown",
   "metadata": {},
   "source": [
    "## Regression Machine - plug in a type of estimator, such as LinearRegression into estimator and run your data!"
   ]
  },
  {
   "cell_type": "markdown",
   "metadata": {},
   "source": [
    "#### (Requires importing your transformers, Standard Scaler in this case, and from sklearn.metrics import mean_squared_error)"
   ]
  },
  {
   "cell_type": "code",
   "execution_count": null,
   "metadata": {},
   "outputs": [],
   "source": [
    "def regression_machine(estimator, X, y, scoring = 'RMSE'):\n",
    "    X = # variables here\n",
    "    y= # variables here\n",
    "    X_train, X_test, y_train, y_test = train_test_split(X, y, random_state = 42)\n",
    "\n",
    "    \n",
    "    ss=StandardScaler()\n",
    "    ss.fit(X_train)\n",
    "    X_train_scaled = ss.transform(X_train)\n",
    "    X_test_scaled = ss.transform(X_test)\n",
    "    estimators = [estimator] # why do my r_sq and rmse values not print unless i specify the model here?\n",
    "    for e in estimators:\n",
    "        est = e()\n",
    "        est.fit(X_train_scaled, y_train)\n",
    "        train_score = est.score(X_train_scaled, y_train)\n",
    "        r_sq = est.score(X_test_scaled, y_test)\n",
    "        preds= est.predict(X_test_scaled)\n",
    "        rmse= np.sqrt(mean_squared_error(y_test, preds))\n",
    "        print(train_score)\n",
    "    return [\"our R Squared is {} and our RMSE is {}\".format( r_sq, rmse)]\n",
    "    "
   ]
  },
  {
   "cell_type": "markdown",
   "metadata": {},
   "source": [
    "### CountVectorizer variation of regression machine.  Replace CountVectorizer cv with TFIDFVectorizer or other transformers as needed!  Also requires importing from nltk.tokenize and import RegexpTokenizer and from nltk.corpus import stopwords "
   ]
  },
  {
   "cell_type": "code",
   "execution_count": null,
   "metadata": {},
   "outputs": [],
   "source": [
    "def regression_machineCV(estimator, X, y, scoring = 'RMSE'):\n",
    "    X = # variables here  \n",
    "    y = # variables here\n",
    "    X_train, X_test, y_train, y_test = train_test_split(X, y, test_size = .3)\n",
    "\n",
    "    \n",
    "    cv = CountVectorizer(max_features = 50, stop_words = stopwords.words('english'))\n",
    "    cv.fit(X_train)\n",
    "    X_train_scaled = cv.transform(X_train)\n",
    "    X_test_scaled = cv.transform(X_test)\n",
    "    estimators = [estimator] \n",
    "    for e in estimators:\n",
    "        est = e()\n",
    "        est.fit(X_train_scaled, y_train)\n",
    "        train_score = est.score(X_train_scaled, y_train)\n",
    "        r_sq = est.score(X_test_scaled, y_test)\n",
    "        preds= est.predict(X_test_scaled)\n",
    "        rmse= np.sqrt(mean_squared_error(y_test, preds))\n",
    "        print(train_score)\n",
    "    return [\"our R Squared is {} and our RMSE is {}\".format( r_sq, rmse)]"
   ]
  },
  {
   "cell_type": "markdown",
   "metadata": {},
   "source": [
    "### Classification Machine - Again, import and plug in your estimator and transformer!"
   ]
  },
  {
   "cell_type": "code",
   "execution_count": null,
   "metadata": {},
   "outputs": [],
   "source": [
    "def classification_machine(estimators, X, y):\n",
    "    X = df401k[['inc', 'incsq', 'nettfa', 'age', 'agesq']]\n",
    "    y= df401k['e401k']\n",
    "    X_train, X_test, y_train, y_test = train_test_split(X, y, test_size=.2, random_state = 42)\n",
    "\n",
    "    \n",
    "    ss=StandardScaler()\n",
    "    ss.fit(X_train)\n",
    "    X_train_scaled = ss.transform(X_train)\n",
    "    X_test_scaled = ss.transform(X_test)\n",
    "    estimators = [estimators] \n",
    "    for e in estimators:\n",
    "        est = e()\n",
    "        est.fit(X_train_scaled, y_train)\n",
    "        train_score = est.score(X_train_scaled, y_train)\n",
    "        r_sq = est.score(X_test_scaled, y_test)\n",
    "        preds= est.predict(X_test_scaled)\n",
    "        print(train_score, r_sq)\n",
    "    \n",
    "    return [\"our training data has an r^2 of {} while our testing data has an r^2 of {}\".format(train_score, r_sq)]"
   ]
  },
  {
   "cell_type": "markdown",
   "metadata": {},
   "source": [
    "### CountVectorizer variation of classification machine.  Also requires importing from nltk.tokenize and import RegexpTokenizer and from nltk.corpus import stopwords"
   ]
  },
  {
   "cell_type": "code",
   "execution_count": null,
   "metadata": {},
   "outputs": [],
   "source": [
    "def classification_machineCV(estimator, X, y, scoring = 'RMSE'):\n",
    "    X = secure_df['Subject']    \n",
    "    y = secure_df['sent_dummy']\n",
    "    X_train, X_test, y_train, y_test = train_test_split(X, y, test_size=.2, random_state = 42)\n",
    "\n",
    "    \n",
    "    cv = CountVectorizer(max_features = 520, stop_words = stopwords.words('english'))\n",
    "    cv.fit(X_train)\n",
    "    X_train_scaled = cv.transform(X_train)\n",
    "    X_test_scaled = cv.transform(X_test)\n",
    "    estimators = [estimator] \n",
    "    for e in estimators:\n",
    "        est = e()\n",
    "        est.fit(X_train_scaled, y_train)\n",
    "        train_score = est.score(X_train_scaled, y_train)\n",
    "        r_sq = est.score(X_test_scaled, y_test)\n",
    "        preds= est.predict(X_test_scaled)\n",
    "    \n",
    "    return [\"our training data has an r^2 of {} while our testing data has an r^2 of {}. Our predictions are {}\".format(train_score, r_sq, preds)]"
   ]
  },
  {
   "cell_type": "code",
   "execution_count": 1,
   "metadata": {},
   "outputs": [],
   "source": [
    "def scale_matrix(X):\n",
    "    ss= StandardScaler()\n",
    "    X_scaled = ss.fit_transform(X)\n",
    "    return X_scaled"
   ]
  },
  {
   "cell_type": "code",
   "execution_count": 1,
   "metadata": {},
   "outputs": [],
   "source": [
    "def z_score_df_processor(transformer, X, scoring= \"Z-score\"): \n",
    "    \n",
    "    \n",
    "    sc=StandardScaler()\n",
    "    X_cols_sc = sc.fit_transform(X)\n",
    "    transformers = [transformer] \n",
    "#     for t in transformers:\n",
    "#         trans = t()\n",
    "#         df_scaled_cols = trans.fit(X_cols_sc)\n",
    "#         print(df_scaled_cols)\n",
    "    return pd.DataFrame(X_cols_sc)"
   ]
  },
  {
   "cell_type": "code",
   "execution_count": null,
   "metadata": {},
   "outputs": [],
   "source": []
  }
 ],
 "metadata": {
  "kernelspec": {
   "display_name": "Python 3",
   "language": "python",
   "name": "python3"
  },
  "language_info": {
   "codemirror_mode": {
    "name": "ipython",
    "version": 3
   },
   "file_extension": ".py",
   "mimetype": "text/x-python",
   "name": "python",
   "nbconvert_exporter": "python",
   "pygments_lexer": "ipython3",
   "version": "3.7.1"
  }
 },
 "nbformat": 4,
 "nbformat_minor": 2
}
