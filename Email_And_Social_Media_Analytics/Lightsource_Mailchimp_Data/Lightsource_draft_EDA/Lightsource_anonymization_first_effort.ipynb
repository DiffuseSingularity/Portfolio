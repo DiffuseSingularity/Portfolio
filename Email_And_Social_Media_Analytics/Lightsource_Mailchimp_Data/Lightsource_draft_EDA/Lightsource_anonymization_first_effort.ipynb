{
 "cells": [
  {
   "cell_type": "code",
   "execution_count": 1,
   "metadata": {},
   "outputs": [],
   "source": [
    "import numpy as np\n",
    "import pandas as pd\n",
    "from os import path\n",
    "from PIL import Image\n",
    "from wordcloud import WordCloud, STOPWORDS, ImageColorGenerator\n",
    "import matplotlib.pyplot as plt\n",
    "from sklearn.model_selection import GridSearchCV\n",
    "from sklearn.linear_model import LogisticRegression\n",
    "from sklearn.naive_bayes import MultinomialNB\n",
    "from sklearn.feature_extraction.text import CountVectorizer\n",
    "from sklearn.model_selection import train_test_split\n",
    "from nltk.tokenize import RegexpTokenizer\n",
    "from nltk.corpus import stopwords \n",
    "from sklearn.metrics import confusion_matrix"
   ]
  },
  {
   "cell_type": "code",
   "execution_count": 2,
   "metadata": {},
   "outputs": [],
   "source": [
    "import seaborn as sns"
   ]
  },
  {
   "cell_type": "code",
   "execution_count": null,
   "metadata": {},
   "outputs": [],
   "source": []
  },
  {
   "cell_type": "markdown",
   "metadata": {},
   "source": [
    "# How to anonymize sensitive data in a pandas dataframe"
   ]
  },
  {
   "cell_type": "markdown",
   "metadata": {},
   "source": [
    "### 1) Load In The Data (this data directly below has been anonymized, this section is a tutorial and will not load anything.  You may insert your own csv of data to experiment with this, and see my results below."
   ]
  },
  {
   "cell_type": "code",
   "execution_count": 28,
   "metadata": {},
   "outputs": [],
   "source": [
    "#df = pd.read_csv(\"exampleonly.csv\")"
   ]
  },
  {
   "cell_type": "code",
   "execution_count": 29,
   "metadata": {},
   "outputs": [],
   "source": [
    "#df"
   ]
  },
  {
   "cell_type": "code",
   "execution_count": 30,
   "metadata": {},
   "outputs": [],
   "source": [
    "#df.shape"
   ]
  },
  {
   "cell_type": "markdown",
   "metadata": {},
   "source": [
    "\n",
    "### 2) Shuffle/Randomize, to change index so identifying info cannot be reverse engineered by anyone who may have access to all or part of the data as well.\n"
   ]
  },
  {
   "cell_type": "code",
   "execution_count": 31,
   "metadata": {},
   "outputs": [],
   "source": [
    "#df_ls_total_shuffled = df.reindex(np.random.permutation(df.index))"
   ]
  },
  {
   "cell_type": "markdown",
   "metadata": {},
   "source": [
    "## Remove columns of extraneuous and identifying data by making a new DF\n"
   ]
  },
  {
   "cell_type": "markdown",
   "metadata": {},
   "source": [
    "##### There is obviously a decision to be made on what level of anonymity you must abide by and how much useful data you want from this most accessible data on users.  First names, last names, and emails, phone numbers, and street addresses, and customer ID's are obvious points of concern for anonymity.  With the mailchimp audience info below, you can run a linear regression on Member Ratings vs locations, for example, without concerns of breach of anonymity, as long as you are not using specific addresses as your location variable.  \"Birthday\" could also be used for age analysis, for example.  \n",
    "\n",
    "##### Applying google analytics is required for further analysis of user behavior with this provided data.  "
   ]
  },
  {
   "cell_type": "code",
   "execution_count": 32,
   "metadata": {},
   "outputs": [],
   "source": [
    "#df_cleaned = df_ls_total_shuffled[[\"Member Rating\", \"MEMBER_RATING\", \"REGION\", \"TIMEZONE\"]]"
   ]
  },
  {
   "cell_type": "code",
   "execution_count": 33,
   "metadata": {},
   "outputs": [],
   "source": [
    "#df_cleaned.head()"
   ]
  },
  {
   "cell_type": "code",
   "execution_count": null,
   "metadata": {},
   "outputs": [],
   "source": []
  },
  {
   "cell_type": "markdown",
   "metadata": {},
   "source": [
    "# Save your cleaned, anonymized dataframe\n"
   ]
  },
  {
   "cell_type": "code",
   "execution_count": 34,
   "metadata": {},
   "outputs": [],
   "source": [
    "#df_cleaned.to_csv(\"df_ls_cleaned_example.csv\")"
   ]
  },
  {
   "cell_type": "markdown",
   "metadata": {},
   "source": [
    "## And load your data, to see that it's been saved in a clean, anonymized form!  Your data can now be shared without concern of breach of anonymity."
   ]
  },
  {
   "cell_type": "code",
   "execution_count": 35,
   "metadata": {},
   "outputs": [],
   "source": [
    "clean_anon_df = pd.read_csv(\"df_ls_cleaned_example.csv\")"
   ]
  },
  {
   "cell_type": "markdown",
   "metadata": {},
   "source": [
    "### You may pop the old index to remove it if you wish."
   ]
  },
  {
   "cell_type": "code",
   "execution_count": 36,
   "metadata": {},
   "outputs": [
    {
     "data": {
      "text/plain": [
       "0        503\n",
       "1        392\n",
       "2        904\n",
       "3       1305\n",
       "4        661\n",
       "5        296\n",
       "6       1640\n",
       "7        965\n",
       "8       1506\n",
       "9        963\n",
       "10      1385\n",
       "11       142\n",
       "12      1172\n",
       "13        20\n",
       "14       667\n",
       "15       379\n",
       "16        46\n",
       "17       182\n",
       "18      1624\n",
       "19      1675\n",
       "20      1146\n",
       "21       498\n",
       "22        44\n",
       "23       706\n",
       "24       158\n",
       "25       704\n",
       "26      1306\n",
       "27      1665\n",
       "28      1391\n",
       "29      1431\n",
       "        ... \n",
       "1647     208\n",
       "1648     603\n",
       "1649    1154\n",
       "1650     240\n",
       "1651     764\n",
       "1652     126\n",
       "1653     139\n",
       "1654     450\n",
       "1655     713\n",
       "1656    1658\n",
       "1657     300\n",
       "1658     760\n",
       "1659     575\n",
       "1660    1364\n",
       "1661       5\n",
       "1662     216\n",
       "1663     402\n",
       "1664    1063\n",
       "1665    1191\n",
       "1666     229\n",
       "1667    1237\n",
       "1668     686\n",
       "1669    1274\n",
       "1670    1014\n",
       "1671     929\n",
       "1672     147\n",
       "1673     186\n",
       "1674     787\n",
       "1675    1558\n",
       "1676     839\n",
       "Name: Unnamed: 0, Length: 1677, dtype: int64"
      ]
     },
     "execution_count": 36,
     "metadata": {},
     "output_type": "execute_result"
    }
   ],
   "source": [
    "clean_anon_df.pop(\"Unnamed: 0\")"
   ]
  },
  {
   "cell_type": "markdown",
   "metadata": {},
   "source": [
    "### Your data is ready to be shared! "
   ]
  },
  {
   "cell_type": "code",
   "execution_count": 37,
   "metadata": {
    "scrolled": true
   },
   "outputs": [
    {
     "data": {
      "text/html": [
       "<div>\n",
       "<style scoped>\n",
       "    .dataframe tbody tr th:only-of-type {\n",
       "        vertical-align: middle;\n",
       "    }\n",
       "\n",
       "    .dataframe tbody tr th {\n",
       "        vertical-align: top;\n",
       "    }\n",
       "\n",
       "    .dataframe thead th {\n",
       "        text-align: right;\n",
       "    }\n",
       "</style>\n",
       "<table border=\"1\" class=\"dataframe\">\n",
       "  <thead>\n",
       "    <tr style=\"text-align: right;\">\n",
       "      <th></th>\n",
       "      <th>Member Rating</th>\n",
       "      <th>MEMBER_RATING</th>\n",
       "      <th>REGION</th>\n",
       "      <th>TIMEZONE</th>\n",
       "    </tr>\n",
       "  </thead>\n",
       "  <tbody>\n",
       "    <tr>\n",
       "      <th>1672</th>\n",
       "      <td>2.0</td>\n",
       "      <td>2</td>\n",
       "      <td>la</td>\n",
       "      <td>318</td>\n",
       "    </tr>\n",
       "    <tr>\n",
       "      <th>1673</th>\n",
       "      <td>2.0</td>\n",
       "      <td>2</td>\n",
       "      <td>NaN</td>\n",
       "      <td>NaN</td>\n",
       "    </tr>\n",
       "    <tr>\n",
       "      <th>1674</th>\n",
       "      <td>2.0</td>\n",
       "      <td>2</td>\n",
       "      <td>NaN</td>\n",
       "      <td>NaN</td>\n",
       "    </tr>\n",
       "    <tr>\n",
       "      <th>1675</th>\n",
       "      <td>2.0</td>\n",
       "      <td>2</td>\n",
       "      <td>NaN</td>\n",
       "      <td>NaN</td>\n",
       "    </tr>\n",
       "    <tr>\n",
       "      <th>1676</th>\n",
       "      <td>2.0</td>\n",
       "      <td>2</td>\n",
       "      <td>NaN</td>\n",
       "      <td>NaN</td>\n",
       "    </tr>\n",
       "  </tbody>\n",
       "</table>\n",
       "</div>"
      ],
      "text/plain": [
       "      Member Rating  MEMBER_RATING REGION TIMEZONE\n",
       "1672            2.0              2     la      318\n",
       "1673            2.0              2    NaN      NaN\n",
       "1674            2.0              2    NaN      NaN\n",
       "1675            2.0              2    NaN      NaN\n",
       "1676            2.0              2    NaN      NaN"
      ]
     },
     "execution_count": 37,
     "metadata": {},
     "output_type": "execute_result"
    }
   ],
   "source": [
    "clean_anon_df.tail()"
   ]
  },
  {
   "cell_type": "code",
   "execution_count": null,
   "metadata": {},
   "outputs": [],
   "source": []
  },
  {
   "cell_type": "code",
   "execution_count": 38,
   "metadata": {},
   "outputs": [],
   "source": [
    "df_ls_total_sorted = clean_anon_df.sort_values(['MEMBER_RATING'], ascending=False)"
   ]
  },
  {
   "cell_type": "code",
   "execution_count": 39,
   "metadata": {
    "scrolled": true
   },
   "outputs": [
    {
     "data": {
      "text/plain": [
       "Member Rating    2992.0\n",
       "MEMBER_RATING    3334.0\n",
       "dtype: float64"
      ]
     },
     "execution_count": 39,
     "metadata": {},
     "output_type": "execute_result"
    }
   ],
   "source": [
    "df_ls_total_sorted.sum()"
   ]
  },
  {
   "cell_type": "code",
   "execution_count": 181,
   "metadata": {
    "scrolled": true
   },
   "outputs": [
    {
     "data": {
      "text/html": [
       "<div>\n",
       "<style scoped>\n",
       "    .dataframe tbody tr th:only-of-type {\n",
       "        vertical-align: middle;\n",
       "    }\n",
       "\n",
       "    .dataframe tbody tr th {\n",
       "        vertical-align: top;\n",
       "    }\n",
       "\n",
       "    .dataframe thead th {\n",
       "        text-align: right;\n",
       "    }\n",
       "</style>\n",
       "<table border=\"1\" class=\"dataframe\">\n",
       "  <thead>\n",
       "    <tr style=\"text-align: right;\">\n",
       "      <th></th>\n",
       "      <th>Member Rating</th>\n",
       "      <th>MEMBER_RATING</th>\n",
       "      <th>REGION</th>\n",
       "      <th>TIMEZONE</th>\n",
       "    </tr>\n",
       "  </thead>\n",
       "  <tbody>\n",
       "    <tr>\n",
       "      <th>1159</th>\n",
       "      <td>2.0</td>\n",
       "      <td>4</td>\n",
       "      <td>NY</td>\n",
       "      <td>America/New_York</td>\n",
       "    </tr>\n",
       "    <tr>\n",
       "      <th>549</th>\n",
       "      <td>2.0</td>\n",
       "      <td>4</td>\n",
       "      <td>la</td>\n",
       "      <td>318</td>\n",
       "    </tr>\n",
       "    <tr>\n",
       "      <th>1451</th>\n",
       "      <td>2.0</td>\n",
       "      <td>3</td>\n",
       "      <td>NaN</td>\n",
       "      <td>NaN</td>\n",
       "    </tr>\n",
       "    <tr>\n",
       "      <th>238</th>\n",
       "      <td>2.0</td>\n",
       "      <td>3</td>\n",
       "      <td>NaN</td>\n",
       "      <td>NaN</td>\n",
       "    </tr>\n",
       "    <tr>\n",
       "      <th>1036</th>\n",
       "      <td>2.0</td>\n",
       "      <td>3</td>\n",
       "      <td>NaN</td>\n",
       "      <td>NaN</td>\n",
       "    </tr>\n",
       "  </tbody>\n",
       "</table>\n",
       "</div>"
      ],
      "text/plain": [
       "      Member Rating  MEMBER_RATING REGION          TIMEZONE\n",
       "1159            2.0              4     NY  America/New_York\n",
       "549             2.0              4     la               318\n",
       "1451            2.0              3    NaN               NaN\n",
       "238             2.0              3    NaN               NaN\n",
       "1036            2.0              3    NaN               NaN"
      ]
     },
     "execution_count": 181,
     "metadata": {},
     "output_type": "execute_result"
    }
   ],
   "source": [
    "df_ls_total_sorted.head()"
   ]
  },
  {
   "cell_type": "markdown",
   "metadata": {},
   "source": [
    " "
   ]
  },
  {
   "cell_type": "code",
   "execution_count": null,
   "metadata": {},
   "outputs": [],
   "source": [
    "# try tfidf and hash vectorizers, tokenization, lemmatization \n",
    "\n",
    "# EDA on facebook data, POSSIBLY analytics on reactions?\n",
    "# Analytics on Arc 38 data solo & combined with Lightsource \n",
    "# Clear readme, what are each of the notebooks and file?\n",
    "\n"
   ]
  }
 ],
 "metadata": {
  "kernelspec": {
   "display_name": "Python 3",
   "language": "python",
   "name": "python3"
  },
  "language_info": {
   "codemirror_mode": {
    "name": "ipython",
    "version": 3
   },
   "file_extension": ".py",
   "mimetype": "text/x-python",
   "name": "python",
   "nbconvert_exporter": "python",
   "pygments_lexer": "ipython3",
   "version": "3.7.1"
  }
 },
 "nbformat": 4,
 "nbformat_minor": 2
}
